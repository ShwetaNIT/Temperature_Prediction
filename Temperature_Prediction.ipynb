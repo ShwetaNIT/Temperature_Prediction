{
  "cells": [
    {
      "cell_type": "markdown",
      "source": [
        "Check out the Jupyter notebook for Chapter 10 at https://github.com/fchollet/deep-learning-with-python-notebooks/blob/master/chapter10_dl-for-timeseries.ipynb. It has tried 7 methods for the temperature prediction problem: Try 1 (A common-sense, non-machine learning baseline method), Try 2 (A fully connected neural network), Try 3 (1-d convolutional neural networks), Try 4 (Recurrent neural network), Try 5 (LSTM with recurrent dropout), Try 6 (stacking RNN layers), Try 7 (Bidirectional RNN).\n",
        "\n",
        "**Your task: use the above 7 methods to predict the temperature in 48 hours (instead of 24 hours). In the Jupyter notebook, include your code as well as the performance of the 7 methods.**    "
      ],
      "metadata": {
        "id": "Gp-Y2PHojrEY"
      }
    },
    {
      "cell_type": "markdown",
      "metadata": {
        "id": "nh6555li1veO"
      },
      "source": [
        "# Deep learning for timeseries"
      ]
    },
    {
      "cell_type": "markdown",
      "metadata": {
        "id": "FPE40Sci1veO"
      },
      "source": [
        "## Different kinds of timeseries tasks"
      ]
    },
    {
      "cell_type": "markdown",
      "metadata": {
        "id": "RGs7AJAO1veP"
      },
      "source": [
        "## A temperature-forecasting example"
      ]
    },
    {
      "cell_type": "code",
      "execution_count": null,
      "metadata": {
        "colab": {
          "base_uri": "https://localhost:8080/"
        },
        "id": "8N6BAaFF1veP",
        "outputId": "5575501f-b598-48c3-de11-b38108d22498"
      },
      "outputs": [
        {
          "output_type": "stream",
          "name": "stdout",
          "text": [
            "--2023-03-10 18:32:06--  https://s3.amazonaws.com/keras-datasets/jena_climate_2009_2016.csv.zip\n",
            "Resolving s3.amazonaws.com (s3.amazonaws.com)... 52.216.114.21, 52.217.234.48, 54.231.132.56, ...\n",
            "Connecting to s3.amazonaws.com (s3.amazonaws.com)|52.216.114.21|:443... connected.\n",
            "HTTP request sent, awaiting response... 200 OK\n",
            "Length: 13565642 (13M) [application/zip]\n",
            "Saving to: ‘jena_climate_2009_2016.csv.zip’\n",
            "\n",
            "jena_climate_2009_2 100%[===================>]  12.94M  13.7MB/s    in 0.9s    \n",
            "\n",
            "2023-03-10 18:32:07 (13.7 MB/s) - ‘jena_climate_2009_2016.csv.zip’ saved [13565642/13565642]\n",
            "\n",
            "Archive:  jena_climate_2009_2016.csv.zip\n",
            "  inflating: jena_climate_2009_2016.csv  \n",
            "  inflating: __MACOSX/._jena_climate_2009_2016.csv  \n"
          ]
        }
      ],
      "source": [
        "!wget https://s3.amazonaws.com/keras-datasets/jena_climate_2009_2016.csv.zip\n",
        "!unzip jena_climate_2009_2016.csv.zip"
      ]
    },
    {
      "cell_type": "markdown",
      "metadata": {
        "id": "COVnz5OW1veQ"
      },
      "source": [
        "**Inspecting the data of the Jena weather dataset**"
      ]
    },
    {
      "cell_type": "code",
      "execution_count": null,
      "metadata": {
        "colab": {
          "base_uri": "https://localhost:8080/"
        },
        "id": "2fHleo6c1veQ",
        "outputId": "146bcce8-44d8-4156-f659-a006889d0455"
      },
      "outputs": [
        {
          "output_type": "stream",
          "name": "stdout",
          "text": [
            "['\"Date Time\"', '\"p (mbar)\"', '\"T (degC)\"', '\"Tpot (K)\"', '\"Tdew (degC)\"', '\"rh (%)\"', '\"VPmax (mbar)\"', '\"VPact (mbar)\"', '\"VPdef (mbar)\"', '\"sh (g/kg)\"', '\"H2OC (mmol/mol)\"', '\"rho (g/m**3)\"', '\"wv (m/s)\"', '\"max. wv (m/s)\"', '\"wd (deg)\"']\n",
            "420451\n"
          ]
        }
      ],
      "source": [
        "import os\n",
        "fname = os.path.join(\"jena_climate_2009_2016.csv\")\n",
        "\n",
        "with open(fname) as f:\n",
        "    data = f.read()\n",
        "\n",
        "lines = data.split(\"\\n\")\n",
        "header = lines[0].split(\",\")\n",
        "lines = lines[1:]\n",
        "print(header)\n",
        "print(len(lines))"
      ]
    },
    {
      "cell_type": "markdown",
      "metadata": {
        "id": "cOQOS9qj1veQ"
      },
      "source": [
        "**Parsing the data**"
      ]
    },
    {
      "cell_type": "code",
      "execution_count": null,
      "metadata": {
        "id": "dQBc-sy01veQ"
      },
      "outputs": [],
      "source": [
        "import numpy as np\n",
        "temperature = np.zeros((len(lines),))\n",
        "raw_data = np.zeros((len(lines), len(header) - 1))\n",
        "for i, line in enumerate(lines):\n",
        "    values = [float(x) for x in line.split(\",\")[1:]]\n",
        "    temperature[i] = values[1]\n",
        "    raw_data[i, :] = values[:]"
      ]
    },
    {
      "cell_type": "markdown",
      "metadata": {
        "id": "j2Mpeowz1veR"
      },
      "source": [
        "**Plotting the temperature timeseries**"
      ]
    },
    {
      "cell_type": "code",
      "execution_count": null,
      "metadata": {
        "colab": {
          "base_uri": "https://localhost:8080/",
          "height": 286
        },
        "id": "JXwIHzf21veR",
        "outputId": "988efaa8-76fa-4b43-c08f-ec48d7a6f008"
      },
      "outputs": [
        {
          "output_type": "execute_result",
          "data": {
            "text/plain": [
              "[<matplotlib.lines.Line2D at 0x7ff853ccfa30>]"
            ]
          },
          "metadata": {},
          "execution_count": 4
        },
        {
          "output_type": "display_data",
          "data": {
            "text/plain": [
              "<Figure size 432x288 with 1 Axes>"
            ],
            "image/png": "[encoded data removed]"
          },
          "metadata": {
            "needs_background": "light"
          }
        }
      ],
      "source": [
        "from matplotlib import pyplot as plt\n",
        "plt.plot(range(len(temperature)), temperature)"
      ]
    },
    {
      "cell_type": "markdown",
      "metadata": {
        "id": "UzHJTqia1veR"
      },
      "source": [
        "**Plotting the first 10 days of the temperature timeseries**"
      ]
    },
    {
      "cell_type": "code",
      "execution_count": null,
      "metadata": {
        "colab": {
          "base_uri": "https://localhost:8080/",
          "height": 283
        },
        "id": "gvGrFSyQ1veR",
        "outputId": "192d95a0-d665-4558-94b2-a8287c4686a3"
      },
      "outputs": [
        {
          "output_type": "execute_result",
          "data": {
            "text/plain": [
              "[<matplotlib.lines.Line2D at 0x7ff853c0ab20>]"
            ]
          },
          "metadata": {},
          "execution_count": 5
        },
        {
          "output_type": "display_data",
          "data": {
            "text/plain": [
              "<Figure size 432x288 with 1 Axes>"
            ],
            "image/png": "[encoded data removed]"
          },
          "metadata": {
            "needs_background": "light"
          }
        }
      ],
      "source": [
        "plt.plot(range(1440), temperature[:1440])"
      ]
    },
    {
      "cell_type": "markdown",
      "metadata": {
        "id": "l6A0UpcX1veR"
      },
      "source": [
        "**Computing the number of samples we'll use for each data split**"
      ]
    },
    {
      "cell_type": "code",
      "execution_count": null,
      "metadata": {
        "colab": {
          "base_uri": "https://localhost:8080/"
        },
        "id": "hSUgtEv81veR",
        "outputId": "ac7466e0-9ba0-456f-cad5-8c2a7d79232e"
      },
      "outputs": [
        {
          "output_type": "stream",
          "name": "stdout",
          "text": [
            "num_train_samples: 210225\n",
            "num_val_samples: 105112\n",
            "num_test_samples: 105114\n"
          ]
        }
      ],
      "source": [
        "num_train_samples = int(0.5 * len(raw_data))\n",
        "num_val_samples = int(0.25 * len(raw_data))\n",
        "num_test_samples = len(raw_data) - num_train_samples - num_val_samples\n",
        "print(\"num_train_samples:\", num_train_samples)\n",
        "print(\"num_val_samples:\", num_val_samples)\n",
        "print(\"num_test_samples:\", num_test_samples)"
      ]
    },
    {
      "cell_type": "markdown",
      "metadata": {
        "id": "HMA5fbvF1veR"
      },
      "source": [
        "### Preparing the data"
      ]
    },
    {
      "cell_type": "markdown",
      "metadata": {
        "id": "iJO425jX1veR"
      },
      "source": [
        "**Normalizing the data**"
      ]
    },
    {
      "cell_type": "code",
      "execution_count": null,
      "metadata": {
        "id": "fuM878F01veS"
      },
      "outputs": [],
      "source": [
        "mean = raw_data[:num_train_samples].mean(axis=0)\n",
        "raw_data -= mean\n",
        "std = raw_data[:num_train_samples].std(axis=0)\n",
        "raw_data /= std"
      ]
    },
    {
      "cell_type": "code",
      "execution_count": null,
      "metadata": {
        "colab": {
          "base_uri": "https://localhost:8080/"
        },
        "id": "b6XPip061veS",
        "outputId": "af5bb6f3-3e51-4116-b9f4-bd33111746f6"
      },
      "outputs": [
        {
          "output_type": "stream",
          "name": "stdout",
          "text": [
            "[0, 1, 2] 3\n",
            "[1, 2, 3] 4\n",
            "[2, 3, 4] 5\n",
            "[3, 4, 5] 6\n",
            "[4, 5, 6] 7\n"
          ]
        }
      ],
      "source": [
        "import numpy as np\n",
        "from tensorflow import keras\n",
        "int_sequence = np.arange(10)\n",
        "dummy_dataset = keras.utils.timeseries_dataset_from_array(\n",
        "    data=int_sequence[:-3],\n",
        "    targets=int_sequence[3:],\n",
        "    sequence_length=3,\n",
        "    batch_size=2,\n",
        ")\n",
        "\n",
        "for inputs, targets in dummy_dataset:\n",
        "    for i in range(inputs.shape[0]):\n",
        "        print([int(x) for x in inputs[i]], int(targets[i]))"
      ]
    },
    {
      "cell_type": "markdown",
      "metadata": {
        "id": "ymf49iM61veS"
      },
      "source": [
        "**Instantiating datasets for training, validation, and testing**"
      ]
    },
    {
      "cell_type": "code",
      "execution_count": null,
      "metadata": {
        "id": "JisN9PD01veS"
      },
      "outputs": [],
      "source": [
        "sampling_rate = 6\n",
        "sequence_length = 120\n",
        "delay = sampling_rate * (sequence_length + 48 - 1)\n",
        "batch_size = 256\n",
        "\n",
        "train_dataset = keras.utils.timeseries_dataset_from_array(\n",
        "    raw_data[:-delay],\n",
        "    targets=temperature[delay:],\n",
        "    sampling_rate=sampling_rate,\n",
        "    sequence_length=sequence_length,\n",
        "    shuffle=True,\n",
        "    batch_size=batch_size,\n",
        "    start_index=0,\n",
        "    end_index=num_train_samples)\n",
        "\n",
        "val_dataset = keras.utils.timeseries_dataset_from_array(\n",
        "    raw_data[:-delay],\n",
        "    targets=temperature[delay:],\n",
        "    sampling_rate=sampling_rate,\n",
        "    sequence_length=sequence_length,\n",
        "    shuffle=True,\n",
        "    batch_size=batch_size,\n",
        "    start_index=num_train_samples,\n",
        "    end_index=num_train_samples + num_val_samples)\n",
        "\n",
        "test_dataset = keras.utils.timeseries_dataset_from_array(\n",
        "    raw_data[:-delay],\n",
        "    targets=temperature[delay:],\n",
        "    sampling_rate=sampling_rate,\n",
        "    sequence_length=sequence_length,\n",
        "    shuffle=True,\n",
        "    batch_size=batch_size,\n",
        "    start_index=num_train_samples + num_val_samples)"
      ]
    },
    {
      "cell_type": "markdown",
      "metadata": {
        "id": "HtsG1DYG1veS"
      },
      "source": [
        "**Inspecting the output of one of our datasets**"
      ]
    },
    {
      "cell_type": "code",
      "execution_count": null,
      "metadata": {
        "colab": {
          "base_uri": "https://localhost:8080/"
        },
        "id": "lj8zJVOl1veS",
        "outputId": "1a66af95-63a0-4eff-981a-af941c60ca96"
      },
      "outputs": [
        {
          "output_type": "stream",
          "name": "stdout",
          "text": [
            "samples shape: (256, 120, 14)\n",
            "targets shape: (256,)\n"
          ]
        }
      ],
      "source": [
        "for samples, targets in train_dataset:\n",
        "    print(\"samples shape:\", samples.shape)\n",
        "    print(\"targets shape:\", targets.shape)\n",
        "    break"
      ]
    },
    {
      "cell_type": "markdown",
      "metadata": {
        "id": "EI-sp5gv1veT"
      },
      "source": [
        "### A common-sense, non-machine-learning baseline"
      ]
    },
    {
      "cell_type": "markdown",
      "metadata": {
        "id": "cBLeWnyb1veT"
      },
      "source": [
        "**Computing the common-sense baseline MAE**"
      ]
    },
    {
      "cell_type": "code",
      "execution_count": null,
      "metadata": {
        "colab": {
          "base_uri": "https://localhost:8080/"
        },
        "id": "K6i4BPJM1veT",
        "outputId": "c7f33c5c-e5a7-4e5e-821f-fefd162add3b"
      },
      "outputs": [
        {
          "output_type": "stream",
          "name": "stdout",
          "text": [
            "Validation MAE: 3.21\n",
            "Test MAE: 3.47\n"
          ]
        }
      ],
      "source": [
        "def evaluate_naive_method(dataset):\n",
        "    total_abs_err = 0.\n",
        "    samples_seen = 0\n",
        "    for samples, targets in dataset:\n",
        "        preds = samples[:, -1, 1] * std[1] + mean[1]\n",
        "        total_abs_err += np.sum(np.abs(preds - targets))\n",
        "        samples_seen += samples.shape[0]\n",
        "    return total_abs_err / samples_seen\n",
        "\n",
        "print(f\"Validation MAE: {evaluate_naive_method(val_dataset):.2f}\")\n",
        "print(f\"Test MAE: {evaluate_naive_method(test_dataset):.2f}\")"
      ]
    },
    {
      "cell_type": "markdown",
      "metadata": {
        "id": "KQwXJKgC1veT"
      },
      "source": [
        "### Let's try a basic machine-learning model"
      ]
    },
    {
      "cell_type": "markdown",
      "metadata": {
        "id": "GuySrb2r1veT"
      },
      "source": [
        "**Training and evaluating a densely connected model**"
      ]
    },
    {
      "cell_type": "code",
      "execution_count": null,
      "metadata": {
        "colab": {
          "base_uri": "https://localhost:8080/"
        },
        "id": "N9XDNdEO1veT",
        "outputId": "0c541f11-267b-48cd-fa99-7997cc6c01f8"
      },
      "outputs": [
        {
          "output_type": "stream",
          "name": "stdout",
          "text": [
            "Epoch 1/10\n",
            "819/819 [==============================] - 16s 14ms/step - loss: 17.1093 - mae: 3.2588 - val_loss: 17.7978 - val_mae: 3.3219\n",
            "Epoch 2/10\n",
            "819/819 [==============================] - 11s 14ms/step - loss: 13.2137 - mae: 2.8879 - val_loss: 17.3424 - val_mae: 3.3019\n",
            "Epoch 3/10\n",
            "819/819 [==============================] - 11s 14ms/step - loss: 12.4225 - mae: 2.7990 - val_loss: 17.9877 - val_mae: 3.3555\n",
            "Epoch 4/10\n",
            "819/819 [==============================] - 11s 14ms/step - loss: 11.8362 - mae: 2.7291 - val_loss: 17.3047 - val_mae: 3.2823\n",
            "Epoch 5/10\n",
            "819/819 [==============================] - 11s 14ms/step - loss: 11.4204 - mae: 2.6788 - val_loss: 18.8822 - val_mae: 3.4408\n",
            "Epoch 6/10\n",
            "819/819 [==============================] - 11s 14ms/step - loss: 11.1167 - mae: 2.6385 - val_loss: 17.3614 - val_mae: 3.2993\n",
            "Epoch 7/10\n",
            "819/819 [==============================] - 11s 14ms/step - loss: 10.8061 - mae: 2.6002 - val_loss: 19.0143 - val_mae: 3.4541\n",
            "Epoch 8/10\n",
            "819/819 [==============================] - 12s 14ms/step - loss: 10.5927 - mae: 2.5690 - val_loss: 18.2934 - val_mae: 3.3784\n",
            "Epoch 9/10\n",
            "819/819 [==============================] - 11s 14ms/step - loss: 10.4031 - mae: 2.5456 - val_loss: 18.1957 - val_mae: 3.3866\n",
            "Epoch 10/10\n",
            "819/819 [==============================] - 11s 14ms/step - loss: 10.2612 - mae: 2.5267 - val_loss: 19.2661 - val_mae: 3.4887\n",
            "404/404 [==============================] - 4s 9ms/step - loss: 18.4403 - mae: 3.4190\n",
            "Test MAE: 3.42\n"
          ]
        }
      ],
      "source": [
        "from tensorflow import keras\n",
        "from tensorflow.keras import layers\n",
        "\n",
        "inputs = keras.Input(shape=(sequence_length, raw_data.shape[-1]))\n",
        "x = layers.Flatten()(inputs)\n",
        "x = layers.Dense(16, activation=\"relu\")(x)\n",
        "outputs = layers.Dense(1)(x)\n",
        "model = keras.Model(inputs, outputs)\n",
        "\n",
        "callbacks = [\n",
        "    keras.callbacks.ModelCheckpoint(\"jena_dense.keras\",\n",
        "                                    save_best_only=True)\n",
        "]\n",
        "model.compile(optimizer=\"rmsprop\", loss=\"mse\", metrics=[\"mae\"])\n",
        "history = model.fit(train_dataset,\n",
        "                    epochs=10,\n",
        "                    validation_data=val_dataset,\n",
        "                    callbacks=callbacks)\n",
        "\n",
        "model = keras.models.load_model(\"jena_dense.keras\")\n",
        "print(f\"Test MAE: {model.evaluate(test_dataset)[1]:.2f}\")"
      ]
    },
    {
      "cell_type": "markdown",
      "metadata": {
        "id": "fPOXDO2S1veT"
      },
      "source": [
        "**Plotting results**"
      ]
    },
    {
      "cell_type": "code",
      "execution_count": null,
      "metadata": {
        "colab": {
          "base_uri": "https://localhost:8080/",
          "height": 281
        },
        "id": "zEHWDJhb1veU",
        "outputId": "ba39c4ae-cfa3-4aec-e6c3-71f413223d87"
      },
      "outputs": [
        {
          "output_type": "display_data",
          "data": {
            "text/plain": [
              "<Figure size 432x288 with 1 Axes>"
            ],
            "image/png": "[encoded data removed]"
          },
          "metadata": {
            "needs_background": "light"
          }
        }
      ],
      "source": [
        "import matplotlib.pyplot as plt\n",
        "loss = history.history[\"mae\"]\n",
        "val_loss = history.history[\"val_mae\"]\n",
        "epochs = range(1, len(loss) + 1)\n",
        "plt.figure()\n",
        "plt.plot(epochs, loss, \"bo\", label=\"Training MAE\")\n",
        "plt.plot(epochs, val_loss, \"b\", label=\"Validation MAE\")\n",
        "plt.title(\"Training and validation MAE\")\n",
        "plt.legend()\n",
        "plt.show()"
      ]
    },
    {
      "cell_type": "markdown",
      "metadata": {
        "id": "nqzpKT5r1veU"
      },
      "source": [
        "### Let's try a 1D convolutional model"
      ]
    },
    {
      "cell_type": "code",
      "execution_count": null,
      "metadata": {
        "colab": {
          "base_uri": "https://localhost:8080/"
        },
        "id": "C6OrtvAT1veU",
        "outputId": "a6d91119-bd21-4908-ce39-fff2cb96abfd"
      },
      "outputs": [
        {
          "output_type": "stream",
          "name": "stdout",
          "text": [
            "Epoch 1/10\n",
            "819/819 [==============================] - 18s 15ms/step - loss: 21.2017 - mae: 3.6255 - val_loss: 18.6302 - val_mae: 3.4292\n",
            "Epoch 2/10\n",
            "819/819 [==============================] - 12s 14ms/step - loss: 15.8384 - mae: 3.1730 - val_loss: 19.9747 - val_mae: 3.5457\n",
            "Epoch 3/10\n",
            "819/819 [==============================] - 12s 14ms/step - loss: 14.2709 - mae: 3.0018 - val_loss: 21.9780 - val_mae: 3.7382\n",
            "Epoch 4/10\n",
            "819/819 [==============================] - 12s 14ms/step - loss: 13.1589 - mae: 2.8759 - val_loss: 20.3852 - val_mae: 3.5929\n",
            "Epoch 5/10\n",
            "819/819 [==============================] - 12s 14ms/step - loss: 12.3744 - mae: 2.7841 - val_loss: 21.5722 - val_mae: 3.6672\n",
            "Epoch 6/10\n",
            "819/819 [==============================] - 12s 14ms/step - loss: 11.6343 - mae: 2.6969 - val_loss: 21.6138 - val_mae: 3.6712\n",
            "Epoch 7/10\n",
            "819/819 [==============================] - 12s 14ms/step - loss: 11.1082 - mae: 2.6346 - val_loss: 20.3732 - val_mae: 3.5914\n",
            "Epoch 8/10\n",
            "819/819 [==============================] - 12s 14ms/step - loss: 10.6601 - mae: 2.5781 - val_loss: 22.7803 - val_mae: 3.8251\n",
            "Epoch 9/10\n",
            "819/819 [==============================] - 12s 14ms/step - loss: 10.2887 - mae: 2.5314 - val_loss: 21.5132 - val_mae: 3.6969\n",
            "Epoch 10/10\n",
            "819/819 [==============================] - 12s 14ms/step - loss: 9.9532 - mae: 2.4859 - val_loss: 22.4069 - val_mae: 3.7686\n",
            "404/404 [==============================] - 4s 9ms/step - loss: 20.3684 - mae: 3.5966\n",
            "Test MAE: 3.60\n"
          ]
        }
      ],
      "source": [
        "inputs = keras.Input(shape=(sequence_length, raw_data.shape[-1]))\n",
        "x = layers.Conv1D(8, 48, activation=\"relu\")(inputs)\n",
        "x = layers.MaxPooling1D(2)(x)\n",
        "x = layers.Conv1D(8, 12, activation=\"relu\")(x)\n",
        "x = layers.MaxPooling1D(2)(x)\n",
        "x = layers.Conv1D(8, 6, activation=\"relu\")(x)\n",
        "x = layers.GlobalAveragePooling1D()(x)\n",
        "outputs = layers.Dense(1)(x)\n",
        "model = keras.Model(inputs, outputs)\n",
        "\n",
        "callbacks = [\n",
        "    keras.callbacks.ModelCheckpoint(\"jena_conv.keras\",\n",
        "                                    save_best_only=True)\n",
        "]\n",
        "model.compile(optimizer=\"rmsprop\", loss=\"mse\", metrics=[\"mae\"])\n",
        "history = model.fit(train_dataset,\n",
        "                    epochs=10,\n",
        "                    validation_data=val_dataset,\n",
        "                    callbacks=callbacks)\n",
        "\n",
        "model = keras.models.load_model(\"jena_conv.keras\")\n",
        "print(f\"Test MAE: {model.evaluate(test_dataset)[1]:.2f}\")"
      ]
    },
    {
      "cell_type": "markdown",
      "metadata": {
        "id": "4BAg3vMb1veU"
      },
      "source": [
        "### A first recurrent baseline"
      ]
    },
    {
      "cell_type": "markdown",
      "metadata": {
        "id": "1-njf1ns1veU"
      },
      "source": [
        "**A simple LSTM-based model**"
      ]
    },
    {
      "cell_type": "code",
      "execution_count": null,
      "metadata": {
        "colab": {
          "base_uri": "https://localhost:8080/"
        },
        "id": "Muo4p2tK1veU",
        "outputId": "55df88e9-1b26-4abc-f79f-c5070847c93a"
      },
      "outputs": [
        {
          "output_type": "stream",
          "name": "stdout",
          "text": [
            "Epoch 1/10\n",
            "819/819 [==============================] - 15s 15ms/step - loss: 42.5423 - mae: 4.8765 - val_loss: 17.4938 - val_mae: 3.2466\n",
            "Epoch 2/10\n",
            "819/819 [==============================] - 12s 15ms/step - loss: 16.4131 - mae: 3.1772 - val_loss: 15.2662 - val_mae: 3.0669\n",
            "Epoch 3/10\n",
            "819/819 [==============================] - 12s 15ms/step - loss: 14.5038 - mae: 2.9976 - val_loss: 15.4450 - val_mae: 3.0829\n",
            "Epoch 4/10\n",
            "819/819 [==============================] - 12s 15ms/step - loss: 13.7027 - mae: 2.9158 - val_loss: 15.6454 - val_mae: 3.0882\n",
            "Epoch 5/10\n",
            "819/819 [==============================] - 12s 15ms/step - loss: 13.1773 - mae: 2.8541 - val_loss: 16.5772 - val_mae: 3.1700\n",
            "Epoch 6/10\n",
            "819/819 [==============================] - 12s 15ms/step - loss: 12.7981 - mae: 2.8107 - val_loss: 16.7797 - val_mae: 3.1878\n",
            "Epoch 7/10\n",
            "819/819 [==============================] - 12s 15ms/step - loss: 12.5061 - mae: 2.7767 - val_loss: 17.1084 - val_mae: 3.2309\n",
            "Epoch 8/10\n",
            "819/819 [==============================] - 12s 15ms/step - loss: 12.3260 - mae: 2.7554 - val_loss: 16.9194 - val_mae: 3.2120\n",
            "Epoch 9/10\n",
            "819/819 [==============================] - 12s 15ms/step - loss: 12.0630 - mae: 2.7233 - val_loss: 17.1832 - val_mae: 3.2408\n",
            "Epoch 10/10\n",
            "819/819 [==============================] - 12s 15ms/step - loss: 11.9197 - mae: 2.7088 - val_loss: 17.3409 - val_mae: 3.2378\n",
            "404/404 [==============================] - 4s 9ms/step - loss: 16.6052 - mae: 3.2362\n",
            "Test MAE: 3.24\n"
          ]
        }
      ],
      "source": [
        "inputs = keras.Input(shape=(sequence_length, raw_data.shape[-1]))\n",
        "x = layers.LSTM(16)(inputs)\n",
        "outputs = layers.Dense(1)(x)\n",
        "model = keras.Model(inputs, outputs)\n",
        "\n",
        "callbacks = [\n",
        "    keras.callbacks.ModelCheckpoint(\"jena_lstm.keras\",\n",
        "                                    save_best_only=True)\n",
        "]\n",
        "model.compile(optimizer=\"rmsprop\", loss=\"mse\", metrics=[\"mae\"])\n",
        "history = model.fit(train_dataset,\n",
        "                    epochs=10,\n",
        "                    validation_data=val_dataset,\n",
        "                    callbacks=callbacks)\n",
        "\n",
        "model = keras.models.load_model(\"jena_lstm.keras\")\n",
        "print(f\"Test MAE: {model.evaluate(test_dataset)[1]:.2f}\")"
      ]
    },
    {
      "cell_type": "markdown",
      "metadata": {
        "id": "4R8aDIQJ1veU"
      },
      "source": [
        "## Understanding recurrent neural networks"
      ]
    },
    {
      "cell_type": "markdown",
      "metadata": {
        "id": "sMIsFCoy1veU"
      },
      "source": [
        "**NumPy implementation of a simple RNN**"
      ]
    },
    {
      "cell_type": "code",
      "execution_count": null,
      "metadata": {
        "id": "SREs13-u1veU"
      },
      "outputs": [],
      "source": [
        "import numpy as np\n",
        "timesteps = 100\n",
        "input_features = 32\n",
        "output_features = 64\n",
        "inputs = np.random.random((timesteps, input_features))\n",
        "state_t = np.zeros((output_features,))\n",
        "W = np.random.random((output_features, input_features))\n",
        "U = np.random.random((output_features, output_features))\n",
        "b = np.random.random((output_features,))\n",
        "successive_outputs = []\n",
        "for input_t in inputs:\n",
        "    output_t = np.tanh(np.dot(W, input_t) + np.dot(U, state_t) + b)\n",
        "    successive_outputs.append(output_t)\n",
        "    state_t = output_t\n",
        "final_output_sequence = np.stack(successive_outputs, axis=0)"
      ]
    },
    {
      "cell_type": "markdown",
      "metadata": {
        "id": "QY76W0px1veV"
      },
      "source": [
        "### A recurrent layer in Keras"
      ]
    },
    {
      "cell_type": "markdown",
      "metadata": {
        "id": "1125RdJt1veV"
      },
      "source": [
        "**An RNN layer that can process sequences of any length**"
      ]
    },
    {
      "cell_type": "code",
      "execution_count": null,
      "metadata": {
        "id": "4a73Rb1x1veV"
      },
      "outputs": [],
      "source": [
        "num_features = 14\n",
        "inputs = keras.Input(shape=(None, num_features))\n",
        "outputs = layers.SimpleRNN(16)(inputs)"
      ]
    },
    {
      "cell_type": "markdown",
      "metadata": {
        "id": "O_N0AMOy1veV"
      },
      "source": [
        "**An RNN layer that returns only its last output step**"
      ]
    },
    {
      "cell_type": "code",
      "execution_count": null,
      "metadata": {
        "colab": {
          "base_uri": "https://localhost:8080/"
        },
        "id": "Tc_ZQMvt1veV",
        "outputId": "0c2b949b-3e98-4b5d-d944-6437d64c0ae6"
      },
      "outputs": [
        {
          "output_type": "stream",
          "name": "stdout",
          "text": [
            "(None, 16)\n"
          ]
        }
      ],
      "source": [
        "num_features = 14\n",
        "steps = 120\n",
        "inputs = keras.Input(shape=(steps, num_features))\n",
        "outputs = layers.SimpleRNN(16, return_sequences=False)(inputs)\n",
        "print(outputs.shape)"
      ]
    },
    {
      "cell_type": "markdown",
      "metadata": {
        "id": "ML3W3AHB1veV"
      },
      "source": [
        "**An RNN layer that returns its full output sequence**"
      ]
    },
    {
      "cell_type": "code",
      "execution_count": null,
      "metadata": {
        "colab": {
          "base_uri": "https://localhost:8080/"
        },
        "id": "TFC-OD9z1veV",
        "outputId": "da4e053c-8b12-46c8-88a5-933360d668f3"
      },
      "outputs": [
        {
          "output_type": "stream",
          "name": "stdout",
          "text": [
            "(None, 120, 16)\n"
          ]
        }
      ],
      "source": [
        "num_features = 14\n",
        "steps = 120\n",
        "inputs = keras.Input(shape=(steps, num_features))\n",
        "outputs = layers.SimpleRNN(16, return_sequences=True)(inputs)\n",
        "print(outputs.shape)"
      ]
    },
    {
      "cell_type": "markdown",
      "metadata": {
        "id": "5U0TjL5i1veV"
      },
      "source": [
        "**Stacking RNN layers**"
      ]
    },
    {
      "cell_type": "code",
      "execution_count": null,
      "metadata": {
        "id": "Up8wGhJW1veV"
      },
      "outputs": [],
      "source": [
        "inputs = keras.Input(shape=(steps, num_features))\n",
        "x = layers.SimpleRNN(16, return_sequences=True)(inputs)\n",
        "x = layers.SimpleRNN(16, return_sequences=True)(x)\n",
        "outputs = layers.SimpleRNN(16)(x)"
      ]
    },
    {
      "cell_type": "markdown",
      "metadata": {
        "id": "BoLjo_nw1veV"
      },
      "source": [
        "## Advanced use of recurrent neural networks"
      ]
    },
    {
      "cell_type": "markdown",
      "metadata": {
        "id": "8TQt0iAo1veV"
      },
      "source": [
        "### Using recurrent dropout to fight overfitting"
      ]
    },
    {
      "cell_type": "markdown",
      "metadata": {
        "id": "OPmqgoot1veV"
      },
      "source": [
        "**Training and evaluating a dropout-regularized LSTM**"
      ]
    },
    {
      "cell_type": "code",
      "execution_count": null,
      "metadata": {
        "colab": {
          "base_uri": "https://localhost:8080/"
        },
        "id": "6vpPS0zc1veW",
        "outputId": "c8fe60c3-64f9-4f85-8549-a37677169329"
      },
      "outputs": [
        {
          "output_type": "stream",
          "name": "stderr",
          "text": [
            "WARNING:tensorflow:Layer lstm_1 will not use cuDNN kernels since it doesn't meet the criteria. It will use a generic GPU kernel as fallback when running on GPU.\n"
          ]
        },
        {
          "output_type": "stream",
          "name": "stdout",
          "text": [
            "Epoch 1/50\n",
            "819/819 [==============================] - 247s 298ms/step - loss: 34.6926 - mae: 4.4447 - val_loss: 15.9084 - val_mae: 3.0908\n",
            "Epoch 2/50\n",
            "819/819 [==============================] - 245s 299ms/step - loss: 20.0996 - mae: 3.5107 - val_loss: 16.1831 - val_mae: 3.1284\n",
            "Epoch 3/50\n",
            "819/819 [==============================] - 245s 299ms/step - loss: 18.6980 - mae: 3.3788 - val_loss: 15.4834 - val_mae: 3.0620\n",
            "Epoch 4/50\n",
            "819/819 [==============================] - 245s 299ms/step - loss: 17.7649 - mae: 3.2906 - val_loss: 15.7315 - val_mae: 3.0795\n",
            "Epoch 5/50\n",
            "819/819 [==============================] - 245s 299ms/step - loss: 17.0596 - mae: 3.2239 - val_loss: 16.0700 - val_mae: 3.1329\n",
            "Epoch 6/50\n",
            "819/819 [==============================] - 245s 299ms/step - loss: 16.4092 - mae: 3.1566 - val_loss: 16.0516 - val_mae: 3.1551\n",
            "Epoch 7/50\n",
            "819/819 [==============================] - 244s 298ms/step - loss: 15.9745 - mae: 3.1123 - val_loss: 16.1927 - val_mae: 3.1672\n",
            "Epoch 8/50\n",
            "819/819 [==============================] - 244s 298ms/step - loss: 15.5230 - mae: 3.0651 - val_loss: 16.2783 - val_mae: 3.1629\n",
            "Epoch 9/50\n",
            "819/819 [==============================] - 244s 298ms/step - loss: 15.2796 - mae: 3.0396 - val_loss: 15.9710 - val_mae: 3.1564\n",
            "Epoch 10/50\n",
            "819/819 [==============================] - 244s 298ms/step - loss: 14.8911 - mae: 2.9976 - val_loss: 16.5198 - val_mae: 3.2026\n",
            "Epoch 11/50\n",
            "819/819 [==============================] - 245s 299ms/step - loss: 14.6373 - mae: 2.9753 - val_loss: 16.9947 - val_mae: 3.2464\n",
            "Epoch 12/50\n",
            "819/819 [==============================] - 245s 299ms/step - loss: 14.4829 - mae: 2.9588 - val_loss: 16.9742 - val_mae: 3.2443\n",
            "Epoch 13/50\n",
            "819/819 [==============================] - 244s 297ms/step - loss: 14.2124 - mae: 2.9311 - val_loss: 16.7133 - val_mae: 3.2276\n",
            "Epoch 14/50\n",
            "819/819 [==============================] - 244s 298ms/step - loss: 14.0894 - mae: 2.9112 - val_loss: 16.7861 - val_mae: 3.2370\n",
            "Epoch 15/50\n",
            "819/819 [==============================] - 245s 299ms/step - loss: 13.7902 - mae: 2.8837 - val_loss: 17.2162 - val_mae: 3.2669\n",
            "Epoch 16/50\n",
            "819/819 [==============================] - 245s 299ms/step - loss: 13.6281 - mae: 2.8694 - val_loss: 17.0728 - val_mae: 3.2538\n",
            "Epoch 17/50\n",
            "819/819 [==============================] - 245s 299ms/step - loss: 13.5346 - mae: 2.8539 - val_loss: 17.1324 - val_mae: 3.2717\n",
            "Epoch 18/50\n",
            "819/819 [==============================] - 245s 299ms/step - loss: 13.3674 - mae: 2.8379 - val_loss: 17.1097 - val_mae: 3.2659\n",
            "Epoch 19/50\n",
            "819/819 [==============================] - 245s 299ms/step - loss: 13.2235 - mae: 2.8193 - val_loss: 17.1373 - val_mae: 3.2613\n",
            "Epoch 20/50\n",
            "819/819 [==============================] - 244s 298ms/step - loss: 13.0156 - mae: 2.7994 - val_loss: 16.8823 - val_mae: 3.2249\n",
            "Epoch 21/50\n",
            "819/819 [==============================] - 244s 298ms/step - loss: 12.8987 - mae: 2.7882 - val_loss: 17.4597 - val_mae: 3.2603\n",
            "Epoch 22/50\n",
            "819/819 [==============================] - 244s 297ms/step - loss: 12.7690 - mae: 2.7734 - val_loss: 17.1443 - val_mae: 3.2593\n",
            "Epoch 23/50\n",
            "819/819 [==============================] - 245s 299ms/step - loss: 12.6212 - mae: 2.7616 - val_loss: 17.2698 - val_mae: 3.2673\n",
            "Epoch 24/50\n",
            "819/819 [==============================] - 245s 299ms/step - loss: 12.4969 - mae: 2.7450 - val_loss: 18.9272 - val_mae: 3.4267\n",
            "Epoch 25/50\n",
            "819/819 [==============================] - 244s 298ms/step - loss: 12.4101 - mae: 2.7373 - val_loss: 18.8624 - val_mae: 3.4336\n",
            "Epoch 26/50\n",
            "819/819 [==============================] - 245s 299ms/step - loss: 12.3042 - mae: 2.7226 - val_loss: 17.2450 - val_mae: 3.2587\n",
            "Epoch 27/50\n",
            "819/819 [==============================] - 244s 298ms/step - loss: 12.2581 - mae: 2.7178 - val_loss: 18.0303 - val_mae: 3.3566\n",
            "Epoch 28/50\n",
            "819/819 [==============================] - 244s 298ms/step - loss: 12.1697 - mae: 2.7072 - val_loss: 18.4117 - val_mae: 3.3887\n",
            "Epoch 29/50\n",
            "819/819 [==============================] - 244s 298ms/step - loss: 12.1213 - mae: 2.7031 - val_loss: 17.5432 - val_mae: 3.2959\n",
            "Epoch 30/50\n",
            "819/819 [==============================] - 244s 298ms/step - loss: 12.0116 - mae: 2.6899 - val_loss: 18.0359 - val_mae: 3.3612\n",
            "Epoch 31/50\n",
            "819/819 [==============================] - 244s 297ms/step - loss: 11.8419 - mae: 2.6723 - val_loss: 18.0828 - val_mae: 3.3679\n",
            "Epoch 32/50\n",
            "819/819 [==============================] - 244s 298ms/step - loss: 11.7891 - mae: 2.6654 - val_loss: 18.7108 - val_mae: 3.4056\n",
            "Epoch 33/50\n",
            "819/819 [==============================] - 244s 297ms/step - loss: 11.7142 - mae: 2.6563 - val_loss: 18.6706 - val_mae: 3.4165\n",
            "Epoch 34/50\n",
            "819/819 [==============================] - 245s 299ms/step - loss: 11.6377 - mae: 2.6473 - val_loss: 18.4263 - val_mae: 3.3968\n",
            "Epoch 35/50\n",
            "819/819 [==============================] - 245s 299ms/step - loss: 11.5813 - mae: 2.6410 - val_loss: 18.2779 - val_mae: 3.3746\n",
            "Epoch 36/50\n",
            "819/819 [==============================] - 244s 298ms/step - loss: 11.5464 - mae: 2.6355 - val_loss: 18.3866 - val_mae: 3.3796\n",
            "Epoch 37/50\n",
            "819/819 [==============================] - 244s 298ms/step - loss: 11.4625 - mae: 2.6270 - val_loss: 18.9953 - val_mae: 3.4331\n",
            "Epoch 38/50\n",
            "819/819 [==============================] - 244s 298ms/step - loss: 11.4416 - mae: 2.6226 - val_loss: 18.7474 - val_mae: 3.4222\n",
            "Epoch 39/50\n",
            "819/819 [==============================] - 245s 298ms/step - loss: 11.3572 - mae: 2.6145 - val_loss: 19.0412 - val_mae: 3.4295\n",
            "Epoch 40/50\n",
            "819/819 [==============================] - 245s 299ms/step - loss: 11.3298 - mae: 2.6106 - val_loss: 18.3562 - val_mae: 3.3898\n",
            "Epoch 41/50\n",
            "819/819 [==============================] - 244s 298ms/step - loss: 11.2655 - mae: 2.6040 - val_loss: 18.9390 - val_mae: 3.4189\n",
            "Epoch 42/50\n",
            "819/819 [==============================] - 244s 298ms/step - loss: 11.2922 - mae: 2.6034 - val_loss: 18.3989 - val_mae: 3.3797\n",
            "Epoch 43/50\n",
            "819/819 [==============================] - 244s 298ms/step - loss: 11.1952 - mae: 2.5935 - val_loss: 19.0006 - val_mae: 3.4397\n",
            "Epoch 44/50\n",
            "819/819 [==============================] - 245s 299ms/step - loss: 11.1239 - mae: 2.5851 - val_loss: 18.8917 - val_mae: 3.4335\n",
            "Epoch 45/50\n",
            "819/819 [==============================] - 244s 298ms/step - loss: 11.1080 - mae: 2.5830 - val_loss: 19.3713 - val_mae: 3.4714\n",
            "Epoch 46/50\n",
            "819/819 [==============================] - 244s 298ms/step - loss: 10.9980 - mae: 2.5710 - val_loss: 19.1021 - val_mae: 3.4421\n",
            "Epoch 47/50\n",
            "819/819 [==============================] - 245s 299ms/step - loss: 10.9490 - mae: 2.5627 - val_loss: 18.9668 - val_mae: 3.4210\n",
            "Epoch 48/50\n",
            "819/819 [==============================] - 244s 298ms/step - loss: 10.9153 - mae: 2.5612 - val_loss: 18.8265 - val_mae: 3.4230\n",
            "Epoch 49/50\n",
            "819/819 [==============================] - 244s 298ms/step - loss: 10.8845 - mae: 2.5564 - val_loss: 19.2779 - val_mae: 3.4616\n",
            "Epoch 50/50\n",
            "819/819 [==============================] - 244s 298ms/step - loss: 10.8301 - mae: 2.5516 - val_loss: 18.8911 - val_mae: 3.4322\n"
          ]
        }
      ],
      "source": [
        "inputs = keras.Input(shape=(sequence_length, raw_data.shape[-1]))\n",
        "x = layers.LSTM(32, recurrent_dropout=0.25)(inputs)\n",
        "x = layers.Dropout(0.5)(x)\n",
        "outputs = layers.Dense(1)(x)\n",
        "model = keras.Model(inputs, outputs)\n",
        "\n",
        "callbacks = [\n",
        "    keras.callbacks.ModelCheckpoint(\"jena_lstm_dropout.keras\",\n",
        "                                    save_best_only=True)\n",
        "]\n",
        "model.compile(optimizer=\"rmsprop\", loss=\"mse\", metrics=[\"mae\"])\n",
        "history = model.fit(train_dataset,\n",
        "                    epochs=50,\n",
        "                    validation_data=val_dataset,\n",
        "                    callbacks=callbacks)"
      ]
    },
    {
      "cell_type": "code",
      "execution_count": null,
      "metadata": {
        "colab": {
          "base_uri": "https://localhost:8080/"
        },
        "id": "FafRPmgd1veW",
        "outputId": "37f83d93-e477-430e-dce3-3b9fce4072c0"
      },
      "outputs": [
        {
          "output_type": "stream",
          "name": "stderr",
          "text": [
            "WARNING:tensorflow:Layer lstm_2 will not use cuDNN kernels since it doesn't meet the criteria. It will use a generic GPU kernel as fallback when running on GPU.\n"
          ]
        }
      ],
      "source": [
        "inputs = keras.Input(shape=(sequence_length, num_features))\n",
        "x = layers.LSTM(32, recurrent_dropout=0.2, unroll=True)(inputs)"
      ]
    },
    {
      "cell_type": "markdown",
      "metadata": {
        "id": "Waf18fR51veW"
      },
      "source": [
        "### Stacking recurrent layers"
      ]
    },
    {
      "cell_type": "markdown",
      "metadata": {
        "id": "t9b1eQFc1veW"
      },
      "source": [
        "**Training and evaluating a dropout-regularized, stacked GRU model**"
      ]
    },
    {
      "cell_type": "code",
      "execution_count": null,
      "metadata": {
        "id": "PYVho4fw1veW",
        "colab": {
          "base_uri": "https://localhost:8080/"
        },
        "outputId": "704358f4-4cd5-40a0-9f35-131bc4f41fc5"
      },
      "outputs": [
        {
          "output_type": "stream",
          "name": "stderr",
          "text": [
            "WARNING:tensorflow:Layer gru_4 will not use cuDNN kernels since it doesn't meet the criteria. It will use a generic GPU kernel as fallback when running on GPU.\n",
            "WARNING:tensorflow:Layer gru_5 will not use cuDNN kernels since it doesn't meet the criteria. It will use a generic GPU kernel as fallback when running on GPU.\n"
          ]
        },
        {
          "output_type": "stream",
          "name": "stdout",
          "text": [
            "Epoch 1/50\n",
            "819/819 [==============================] - 474s 573ms/step - loss: 28.1763 - mae: 4.0699 - val_loss: 14.9491 - val_mae: 3.0291\n",
            "Epoch 2/50\n",
            "819/819 [==============================] - 469s 572ms/step - loss: 19.0813 - mae: 3.4254 - val_loss: 15.5210 - val_mae: 3.0614\n",
            "Epoch 3/50\n",
            "819/819 [==============================] - 467s 569ms/step - loss: 17.6164 - mae: 3.2943 - val_loss: 16.1762 - val_mae: 3.1165\n",
            "Epoch 4/50\n",
            "819/819 [==============================] - 468s 571ms/step - loss: 16.4794 - mae: 3.1815 - val_loss: 15.6402 - val_mae: 3.1026\n",
            "Epoch 5/50\n",
            "819/819 [==============================] - 468s 571ms/step - loss: 15.5648 - mae: 3.0886 - val_loss: 16.4235 - val_mae: 3.1747\n",
            "Epoch 6/50\n",
            "819/819 [==============================] - 467s 570ms/step - loss: 14.7531 - mae: 3.0032 - val_loss: 17.0680 - val_mae: 3.2184\n",
            "Epoch 7/50\n",
            "819/819 [==============================] - 468s 571ms/step - loss: 13.9623 - mae: 2.9172 - val_loss: 16.1594 - val_mae: 3.1899\n",
            "Epoch 8/50\n",
            "819/819 [==============================] - 468s 572ms/step - loss: 13.2716 - mae: 2.8385 - val_loss: 16.7292 - val_mae: 3.2245\n",
            "Epoch 9/50\n",
            "819/819 [==============================] - 469s 573ms/step - loss: 12.6813 - mae: 2.7713 - val_loss: 18.3100 - val_mae: 3.3716\n",
            "Epoch 10/50\n",
            "819/819 [==============================] - 468s 572ms/step - loss: 12.1981 - mae: 2.7152 - val_loss: 19.6681 - val_mae: 3.4611\n",
            "Epoch 11/50\n",
            "819/819 [==============================] - 469s 573ms/step - loss: 11.8296 - mae: 2.6737 - val_loss: 17.6870 - val_mae: 3.3320\n",
            "Epoch 12/50\n",
            "819/819 [==============================] - 470s 574ms/step - loss: 11.4318 - mae: 2.6266 - val_loss: 18.6036 - val_mae: 3.4396\n",
            "Epoch 13/50\n",
            "819/819 [==============================] - 469s 572ms/step - loss: 11.0701 - mae: 2.5877 - val_loss: 19.6216 - val_mae: 3.4884\n",
            "Epoch 14/50\n",
            "819/819 [==============================] - 469s 572ms/step - loss: 10.7524 - mae: 2.5493 - val_loss: 18.1829 - val_mae: 3.3838\n",
            "Epoch 15/50\n",
            "819/819 [==============================] - 468s 571ms/step - loss: 10.4862 - mae: 2.5188 - val_loss: 19.4973 - val_mae: 3.5083\n",
            "Epoch 16/50\n",
            "819/819 [==============================] - 467s 571ms/step - loss: 10.2306 - mae: 2.4889 - val_loss: 20.2070 - val_mae: 3.5609\n",
            "Epoch 17/50\n",
            "819/819 [==============================] - 466s 568ms/step - loss: 10.0133 - mae: 2.4621 - val_loss: 19.9979 - val_mae: 3.5341\n",
            "Epoch 18/50\n",
            "819/819 [==============================] - 466s 569ms/step - loss: 9.7907 - mae: 2.4362 - val_loss: 19.7286 - val_mae: 3.5227\n",
            "Epoch 19/50\n",
            "819/819 [==============================] - 466s 569ms/step - loss: 9.7052 - mae: 2.4234 - val_loss: 21.1181 - val_mae: 3.6414\n",
            "Epoch 20/50\n",
            "819/819 [==============================] - 466s 569ms/step - loss: 9.4797 - mae: 2.3942 - val_loss: 19.5812 - val_mae: 3.5057\n",
            "Epoch 21/50\n",
            "819/819 [==============================] - 465s 568ms/step - loss: 9.3682 - mae: 2.3814 - val_loss: 20.2742 - val_mae: 3.5808\n",
            "Epoch 22/50\n",
            "819/819 [==============================] - 465s 568ms/step - loss: 9.2644 - mae: 2.3658 - val_loss: 19.2961 - val_mae: 3.5127\n",
            "Epoch 23/50\n",
            "819/819 [==============================] - 467s 570ms/step - loss: 9.0998 - mae: 2.3476 - val_loss: 20.5695 - val_mae: 3.6092\n",
            "Epoch 24/50\n",
            "819/819 [==============================] - 466s 569ms/step - loss: 9.0124 - mae: 2.3352 - val_loss: 20.4873 - val_mae: 3.5850\n",
            "Epoch 25/50\n",
            "819/819 [==============================] - 466s 568ms/step - loss: 8.9301 - mae: 2.3260 - val_loss: 20.3293 - val_mae: 3.5818\n",
            "Epoch 26/50\n",
            "819/819 [==============================] - 467s 570ms/step - loss: 8.8619 - mae: 2.3174 - val_loss: 21.8470 - val_mae: 3.7216\n",
            "Epoch 27/50\n",
            "819/819 [==============================] - 466s 569ms/step - loss: 8.7771 - mae: 2.3015 - val_loss: 21.0940 - val_mae: 3.6360\n",
            "Epoch 28/50\n",
            "819/819 [==============================] - 466s 569ms/step - loss: 8.6640 - mae: 2.2896 - val_loss: 21.8315 - val_mae: 3.7162\n",
            "Epoch 29/50\n",
            "819/819 [==============================] - 468s 571ms/step - loss: 8.6037 - mae: 2.2798 - val_loss: 21.8558 - val_mae: 3.7113\n",
            "Epoch 30/50\n",
            "819/819 [==============================] - 467s 570ms/step - loss: 8.5449 - mae: 2.2736 - val_loss: 20.8574 - val_mae: 3.6307\n",
            "Epoch 31/50\n",
            "819/819 [==============================] - 467s 570ms/step - loss: 8.4667 - mae: 2.2633 - val_loss: 20.3113 - val_mae: 3.5696\n",
            "Epoch 32/50\n",
            "819/819 [==============================] - 467s 569ms/step - loss: 8.3775 - mae: 2.2523 - val_loss: 20.7101 - val_mae: 3.6149\n",
            "Epoch 33/50\n",
            "819/819 [==============================] - 467s 570ms/step - loss: 8.3240 - mae: 2.2432 - val_loss: 21.2845 - val_mae: 3.6645\n",
            "Epoch 34/50\n",
            "819/819 [==============================] - 467s 570ms/step - loss: 8.2945 - mae: 2.2384 - val_loss: 21.8108 - val_mae: 3.6924\n",
            "Epoch 35/50\n",
            "819/819 [==============================] - 466s 569ms/step - loss: 8.2535 - mae: 2.2346 - val_loss: 21.0083 - val_mae: 3.6478\n",
            "Epoch 36/50\n",
            "819/819 [==============================] - 465s 568ms/step - loss: 8.1956 - mae: 2.2252 - val_loss: 20.5045 - val_mae: 3.5934\n",
            "Epoch 37/50\n",
            "819/819 [==============================] - 466s 568ms/step - loss: 8.0859 - mae: 2.2121 - val_loss: 21.7888 - val_mae: 3.7061\n",
            "Epoch 38/50\n",
            "819/819 [==============================] - 467s 570ms/step - loss: 8.0799 - mae: 2.2071 - val_loss: 20.9605 - val_mae: 3.6234\n",
            "Epoch 39/50\n",
            "819/819 [==============================] - 466s 569ms/step - loss: 8.0662 - mae: 2.2092 - val_loss: 21.6253 - val_mae: 3.6805\n",
            "Epoch 40/50\n",
            "819/819 [==============================] - 467s 570ms/step - loss: 8.0370 - mae: 2.2013 - val_loss: 21.4765 - val_mae: 3.6791\n",
            "Epoch 41/50\n",
            "819/819 [==============================] - 467s 570ms/step - loss: 8.0078 - mae: 2.2003 - val_loss: 21.6154 - val_mae: 3.7021\n",
            "Epoch 42/50\n",
            "819/819 [==============================] - 466s 569ms/step - loss: 7.9729 - mae: 2.1925 - val_loss: 21.6912 - val_mae: 3.6923\n",
            "Epoch 43/50\n",
            "819/819 [==============================] - 468s 571ms/step - loss: 7.9053 - mae: 2.1881 - val_loss: 21.3198 - val_mae: 3.6648\n",
            "Epoch 44/50\n",
            "819/819 [==============================] - 466s 569ms/step - loss: 7.8590 - mae: 2.1810 - val_loss: 21.9567 - val_mae: 3.7273\n",
            "Epoch 45/50\n",
            "819/819 [==============================] - 467s 570ms/step - loss: 7.8385 - mae: 2.1782 - val_loss: 22.0696 - val_mae: 3.7261\n",
            "Epoch 46/50\n",
            "819/819 [==============================] - 467s 570ms/step - loss: 7.7730 - mae: 2.1700 - val_loss: 22.0590 - val_mae: 3.7199\n",
            "Epoch 47/50\n",
            "819/819 [==============================] - 466s 569ms/step - loss: 7.7075 - mae: 2.1588 - val_loss: 22.4135 - val_mae: 3.7332\n",
            "Epoch 48/50\n",
            "819/819 [==============================] - 467s 570ms/step - loss: 7.6618 - mae: 2.1509 - val_loss: 22.7467 - val_mae: 3.7808\n",
            "Epoch 49/50\n",
            "819/819 [==============================] - 467s 570ms/step - loss: 7.6953 - mae: 2.1557 - val_loss: 21.7777 - val_mae: 3.7087\n",
            "Epoch 50/50\n",
            "819/819 [==============================] - 467s 570ms/step - loss: 7.6724 - mae: 2.1517 - val_loss: 22.6694 - val_mae: 3.7554\n"
          ]
        },
        {
          "output_type": "stream",
          "name": "stderr",
          "text": [
            "WARNING:tensorflow:Layer gru_4 will not use cuDNN kernels since it doesn't meet the criteria. It will use a generic GPU kernel as fallback when running on GPU.\n",
            "WARNING:tensorflow:Layer gru_5 will not use cuDNN kernels since it doesn't meet the criteria. It will use a generic GPU kernel as fallback when running on GPU.\n"
          ]
        },
        {
          "output_type": "stream",
          "name": "stdout",
          "text": [
            "404/404 [==============================] - 30s 72ms/step - loss: 16.8290 - mae: 3.2270\n",
            "Test MAE: 3.23\n"
          ]
        }
      ],
      "source": [
        "inputs = keras.Input(shape=(sequence_length, raw_data.shape[-1]))\n",
        "x = layers.GRU(32, recurrent_dropout=0.5, return_sequences=True)(inputs)\n",
        "x = layers.GRU(32, recurrent_dropout=0.5)(x)\n",
        "x = layers.Dropout(0.5)(x)\n",
        "outputs = layers.Dense(1)(x)\n",
        "model = keras.Model(inputs, outputs)\n",
        "\n",
        "callbacks = [\n",
        "    keras.callbacks.ModelCheckpoint(\"jena_stacked_gru_dropout.keras\",\n",
        "                                    save_best_only=True)\n",
        "]\n",
        "model.compile(optimizer=\"rmsprop\", loss=\"mse\", metrics=[\"mae\"])\n",
        "history = model.fit(train_dataset,\n",
        "                    epochs=50,\n",
        "                    validation_data=val_dataset,\n",
        "                    callbacks=callbacks)\n",
        "model = keras.models.load_model(\"jena_stacked_gru_dropout.keras\")\n",
        "print(f\"Test MAE: {model.evaluate(test_dataset)[1]:.2f}\")"
      ]
    },
    {
      "cell_type": "markdown",
      "metadata": {
        "id": "yJm36nee1veW"
      },
      "source": [
        "### Using bidirectional RNNs"
      ]
    },
    {
      "cell_type": "markdown",
      "metadata": {
        "id": "7oe5DfCi1veW"
      },
      "source": [
        "**Training and evaluating a bidirectional LSTM**"
      ]
    },
    {
      "cell_type": "code",
      "execution_count": null,
      "metadata": {
        "colab": {
          "base_uri": "https://localhost:8080/"
        },
        "outputId": "2dd96330-f282-4585-8fd8-1ed48df573ea",
        "id": "GWVjfkUmJZXw"
      },
      "outputs": [
        {
          "output_type": "stream",
          "name": "stdout",
          "text": [
            "Epoch 1/10\n",
            "819/819 [==============================] - 49s 56ms/step - loss: 30.3411 - mae: 4.0786 - val_loss: 16.5025 - val_mae: 3.1747\n",
            "Epoch 2/10\n",
            "819/819 [==============================] - 46s 56ms/step - loss: 14.3265 - mae: 2.9850 - val_loss: 16.3466 - val_mae: 3.1525\n",
            "Epoch 3/10\n",
            "819/819 [==============================] - 46s 56ms/step - loss: 13.0822 - mae: 2.8527 - val_loss: 16.6102 - val_mae: 3.1824\n",
            "Epoch 4/10\n",
            "819/819 [==============================] - 47s 57ms/step - loss: 12.3239 - mae: 2.7644 - val_loss: 17.0679 - val_mae: 3.2374\n",
            "Epoch 5/10\n",
            "819/819 [==============================] - 46s 56ms/step - loss: 11.8000 - mae: 2.7011 - val_loss: 17.0512 - val_mae: 3.2249\n",
            "Epoch 6/10\n",
            "819/819 [==============================] - 46s 56ms/step - loss: 11.3474 - mae: 2.6410 - val_loss: 18.2240 - val_mae: 3.3458\n",
            "Epoch 7/10\n",
            "819/819 [==============================] - 46s 56ms/step - loss: 10.8057 - mae: 2.5716 - val_loss: 18.6606 - val_mae: 3.3820\n",
            "Epoch 8/10\n",
            "819/819 [==============================] - 46s 56ms/step - loss: 10.3137 - mae: 2.5056 - val_loss: 19.5557 - val_mae: 3.4797\n",
            "Epoch 9/10\n",
            "819/819 [==============================] - 45s 55ms/step - loss: 9.9747 - mae: 2.4619 - val_loss: 19.6685 - val_mae: 3.4829\n",
            "Epoch 10/10\n",
            "819/819 [==============================] - 46s 56ms/step - loss: 9.6716 - mae: 2.4237 - val_loss: 19.6536 - val_mae: 3.4929\n"
          ]
        }
      ],
      "source": [
        "inputs = keras.Input(shape=(sequence_length, raw_data.shape[-1]))\n",
        "x = layers.Bidirectional(layers.LSTM(16))(inputs)\n",
        "outputs = layers.Dense(1)(x)\n",
        "model = keras.Model(inputs, outputs)\n",
        "\n",
        "model.compile(optimizer=\"rmsprop\", loss=\"mse\", metrics=[\"mae\"])\n",
        "history = model.fit(train_dataset,\n",
        "                    epochs=10,\n",
        "                    validation_data=val_dataset)"
      ]
    },
    {
      "cell_type": "markdown",
      "metadata": {
        "id": "ZSr4GG3f1veW"
      },
      "source": [
        "### Going even further"
      ]
    },
    {
      "cell_type": "markdown",
      "metadata": {
        "id": "twZl1p7P1veW"
      },
      "source": [
        "## Summary"
      ]
    }
  ],
  "metadata": {
    "colab": {
      "provenance": [],
      "machine_shape": "hm",
      "gpuClass": "premium"
    },
    "kernelspec": {
      "display_name": "Python 3",
      "language": "python",
      "name": "python3"
    },
    "language_info": {
      "codemirror_mode": {
        "name": "ipython",
        "version": 3
      },
      "file_extension": ".py",
      "mimetype": "text/x-python",
      "name": "python",
      "nbconvert_exporter": "python",
      "pygments_lexer": "ipython3",
      "version": "3.7.0"
    },
    "accelerator": "GPU",
    "gpuClass": "premium"
  },
  "nbformat": 4,
  "nbformat_minor": 0
}